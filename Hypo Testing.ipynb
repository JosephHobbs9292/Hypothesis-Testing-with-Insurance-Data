{
 "cells": [
  {
   "cell_type": "code",
   "execution_count": 1,
   "id": "faa1088b",
   "metadata": {},
   "outputs": [
    {
     "data": {
      "text/plain": [
       "'1.9.3'"
      ]
     },
     "execution_count": 1,
     "metadata": {},
     "output_type": "execute_result"
    }
   ],
   "source": [
    "## Importing Libraries\n",
    "import pandas as pd\n",
    "import numpy as np\n",
    "import matplotlib.pyplot as plt\n",
    "import seaborn as sns\n",
    "import scipy.stats as stats\n",
    "import scipy\n",
    "scipy.__version__"
   ]
  },
  {
   "cell_type": "markdown",
   "id": "c2f1fa22",
   "metadata": {},
   "source": [
    "## Question One: \n",
    "---\n",
    "Do smokers have higher insurance charges than non-smokers?\n",
    "\n",
    "H1 - Smokers do have higher insurance charges due to their increased health risks and costs\n",
    "\n",
    "H0 - Smokers experience similar charges to non smokers\n",
    "\n",
    "The data is numeric and the there are two samples/groups to compare (average charge of smokers versus the average charge of non-smokers). I will be using a 2 sample T-Test because of this. "
   ]
  },
  {
   "cell_type": "code",
   "execution_count": 2,
   "id": "f31af336",
   "metadata": {},
   "outputs": [
    {
     "data": {
      "text/html": [
       "<div>\n",
       "<style scoped>\n",
       "    .dataframe tbody tr th:only-of-type {\n",
       "        vertical-align: middle;\n",
       "    }\n",
       "\n",
       "    .dataframe tbody tr th {\n",
       "        vertical-align: top;\n",
       "    }\n",
       "\n",
       "    .dataframe thead th {\n",
       "        text-align: right;\n",
       "    }\n",
       "</style>\n",
       "<table border=\"1\" class=\"dataframe\">\n",
       "  <thead>\n",
       "    <tr style=\"text-align: right;\">\n",
       "      <th></th>\n",
       "      <th>age</th>\n",
       "      <th>sex</th>\n",
       "      <th>bmi</th>\n",
       "      <th>children</th>\n",
       "      <th>smoker</th>\n",
       "      <th>region</th>\n",
       "      <th>charges</th>\n",
       "    </tr>\n",
       "  </thead>\n",
       "  <tbody>\n",
       "    <tr>\n",
       "      <th>0</th>\n",
       "      <td>19</td>\n",
       "      <td>female</td>\n",
       "      <td>27.900</td>\n",
       "      <td>0</td>\n",
       "      <td>yes</td>\n",
       "      <td>southwest</td>\n",
       "      <td>16884.92400</td>\n",
       "    </tr>\n",
       "    <tr>\n",
       "      <th>1</th>\n",
       "      <td>18</td>\n",
       "      <td>male</td>\n",
       "      <td>33.770</td>\n",
       "      <td>1</td>\n",
       "      <td>no</td>\n",
       "      <td>southeast</td>\n",
       "      <td>1725.55230</td>\n",
       "    </tr>\n",
       "    <tr>\n",
       "      <th>2</th>\n",
       "      <td>28</td>\n",
       "      <td>male</td>\n",
       "      <td>33.000</td>\n",
       "      <td>3</td>\n",
       "      <td>no</td>\n",
       "      <td>southeast</td>\n",
       "      <td>4449.46200</td>\n",
       "    </tr>\n",
       "    <tr>\n",
       "      <th>3</th>\n",
       "      <td>33</td>\n",
       "      <td>male</td>\n",
       "      <td>22.705</td>\n",
       "      <td>0</td>\n",
       "      <td>no</td>\n",
       "      <td>northwest</td>\n",
       "      <td>21984.47061</td>\n",
       "    </tr>\n",
       "    <tr>\n",
       "      <th>4</th>\n",
       "      <td>32</td>\n",
       "      <td>male</td>\n",
       "      <td>28.880</td>\n",
       "      <td>0</td>\n",
       "      <td>no</td>\n",
       "      <td>northwest</td>\n",
       "      <td>3866.85520</td>\n",
       "    </tr>\n",
       "  </tbody>\n",
       "</table>\n",
       "</div>"
      ],
      "text/plain": [
       "   age     sex     bmi  children smoker     region      charges\n",
       "0   19  female  27.900         0    yes  southwest  16884.92400\n",
       "1   18    male  33.770         1     no  southeast   1725.55230\n",
       "2   28    male  33.000         3     no  southeast   4449.46200\n",
       "3   33    male  22.705         0     no  northwest  21984.47061\n",
       "4   32    male  28.880         0     no  northwest   3866.85520"
      ]
     },
     "execution_count": 2,
     "metadata": {},
     "output_type": "execute_result"
    }
   ],
   "source": [
    "## Loading in Data\n",
    "df= pd.read_csv(\"Data/insurance.csv\")\n",
    "df.head()"
   ]
  },
  {
   "cell_type": "code",
   "execution_count": 3,
   "id": "a111cf2c",
   "metadata": {},
   "outputs": [
    {
     "data": {
      "text/html": [
       "<div>\n",
       "<style scoped>\n",
       "    .dataframe tbody tr th:only-of-type {\n",
       "        vertical-align: middle;\n",
       "    }\n",
       "\n",
       "    .dataframe tbody tr th {\n",
       "        vertical-align: top;\n",
       "    }\n",
       "\n",
       "    .dataframe thead th {\n",
       "        text-align: right;\n",
       "    }\n",
       "</style>\n",
       "<table border=\"1\" class=\"dataframe\">\n",
       "  <thead>\n",
       "    <tr style=\"text-align: right;\">\n",
       "      <th></th>\n",
       "      <th>age</th>\n",
       "      <th>bmi</th>\n",
       "      <th>children</th>\n",
       "      <th>charges</th>\n",
       "    </tr>\n",
       "  </thead>\n",
       "  <tbody>\n",
       "    <tr>\n",
       "      <th>count</th>\n",
       "      <td>274.000000</td>\n",
       "      <td>274.000000</td>\n",
       "      <td>274.000000</td>\n",
       "      <td>274.000000</td>\n",
       "    </tr>\n",
       "    <tr>\n",
       "      <th>mean</th>\n",
       "      <td>38.514599</td>\n",
       "      <td>30.708449</td>\n",
       "      <td>1.113139</td>\n",
       "      <td>32050.231832</td>\n",
       "    </tr>\n",
       "    <tr>\n",
       "      <th>std</th>\n",
       "      <td>13.923186</td>\n",
       "      <td>6.318644</td>\n",
       "      <td>1.157066</td>\n",
       "      <td>11541.547176</td>\n",
       "    </tr>\n",
       "    <tr>\n",
       "      <th>min</th>\n",
       "      <td>18.000000</td>\n",
       "      <td>17.195000</td>\n",
       "      <td>0.000000</td>\n",
       "      <td>12829.455100</td>\n",
       "    </tr>\n",
       "    <tr>\n",
       "      <th>25%</th>\n",
       "      <td>27.000000</td>\n",
       "      <td>26.083750</td>\n",
       "      <td>0.000000</td>\n",
       "      <td>20826.244213</td>\n",
       "    </tr>\n",
       "    <tr>\n",
       "      <th>50%</th>\n",
       "      <td>38.000000</td>\n",
       "      <td>30.447500</td>\n",
       "      <td>1.000000</td>\n",
       "      <td>34456.348450</td>\n",
       "    </tr>\n",
       "    <tr>\n",
       "      <th>75%</th>\n",
       "      <td>49.000000</td>\n",
       "      <td>35.200000</td>\n",
       "      <td>2.000000</td>\n",
       "      <td>41019.207275</td>\n",
       "    </tr>\n",
       "    <tr>\n",
       "      <th>max</th>\n",
       "      <td>64.000000</td>\n",
       "      <td>52.580000</td>\n",
       "      <td>5.000000</td>\n",
       "      <td>63770.428010</td>\n",
       "    </tr>\n",
       "  </tbody>\n",
       "</table>\n",
       "</div>"
      ],
      "text/plain": [
       "              age         bmi    children       charges\n",
       "count  274.000000  274.000000  274.000000    274.000000\n",
       "mean    38.514599   30.708449    1.113139  32050.231832\n",
       "std     13.923186    6.318644    1.157066  11541.547176\n",
       "min     18.000000   17.195000    0.000000  12829.455100\n",
       "25%     27.000000   26.083750    0.000000  20826.244213\n",
       "50%     38.000000   30.447500    1.000000  34456.348450\n",
       "75%     49.000000   35.200000    2.000000  41019.207275\n",
       "max     64.000000   52.580000    5.000000  63770.428010"
      ]
     },
     "execution_count": 3,
     "metadata": {},
     "output_type": "execute_result"
    }
   ],
   "source": [
    "## Creating filtered dataframes and showing descriptive statistics\n",
    "df_smokers = df.loc[df[\"smoker\"] == \"yes\"]\n",
    "df_smokers.describe()"
   ]
  },
  {
   "cell_type": "code",
   "execution_count": 4,
   "id": "1a8f4be5",
   "metadata": {},
   "outputs": [
    {
     "data": {
      "text/html": [
       "<div>\n",
       "<style scoped>\n",
       "    .dataframe tbody tr th:only-of-type {\n",
       "        vertical-align: middle;\n",
       "    }\n",
       "\n",
       "    .dataframe tbody tr th {\n",
       "        vertical-align: top;\n",
       "    }\n",
       "\n",
       "    .dataframe thead th {\n",
       "        text-align: right;\n",
       "    }\n",
       "</style>\n",
       "<table border=\"1\" class=\"dataframe\">\n",
       "  <thead>\n",
       "    <tr style=\"text-align: right;\">\n",
       "      <th></th>\n",
       "      <th>age</th>\n",
       "      <th>bmi</th>\n",
       "      <th>children</th>\n",
       "      <th>charges</th>\n",
       "    </tr>\n",
       "  </thead>\n",
       "  <tbody>\n",
       "    <tr>\n",
       "      <th>count</th>\n",
       "      <td>1064.000000</td>\n",
       "      <td>1064.000000</td>\n",
       "      <td>1064.000000</td>\n",
       "      <td>1064.000000</td>\n",
       "    </tr>\n",
       "    <tr>\n",
       "      <th>mean</th>\n",
       "      <td>39.385338</td>\n",
       "      <td>30.651795</td>\n",
       "      <td>1.090226</td>\n",
       "      <td>8434.268298</td>\n",
       "    </tr>\n",
       "    <tr>\n",
       "      <th>std</th>\n",
       "      <td>14.083410</td>\n",
       "      <td>6.043111</td>\n",
       "      <td>1.218136</td>\n",
       "      <td>5993.781819</td>\n",
       "    </tr>\n",
       "    <tr>\n",
       "      <th>min</th>\n",
       "      <td>18.000000</td>\n",
       "      <td>15.960000</td>\n",
       "      <td>0.000000</td>\n",
       "      <td>1121.873900</td>\n",
       "    </tr>\n",
       "    <tr>\n",
       "      <th>25%</th>\n",
       "      <td>26.750000</td>\n",
       "      <td>26.315000</td>\n",
       "      <td>0.000000</td>\n",
       "      <td>3986.438700</td>\n",
       "    </tr>\n",
       "    <tr>\n",
       "      <th>50%</th>\n",
       "      <td>40.000000</td>\n",
       "      <td>30.352500</td>\n",
       "      <td>1.000000</td>\n",
       "      <td>7345.405300</td>\n",
       "    </tr>\n",
       "    <tr>\n",
       "      <th>75%</th>\n",
       "      <td>52.000000</td>\n",
       "      <td>34.430000</td>\n",
       "      <td>2.000000</td>\n",
       "      <td>11362.887050</td>\n",
       "    </tr>\n",
       "    <tr>\n",
       "      <th>max</th>\n",
       "      <td>64.000000</td>\n",
       "      <td>53.130000</td>\n",
       "      <td>5.000000</td>\n",
       "      <td>36910.608030</td>\n",
       "    </tr>\n",
       "  </tbody>\n",
       "</table>\n",
       "</div>"
      ],
      "text/plain": [
       "               age          bmi     children       charges\n",
       "count  1064.000000  1064.000000  1064.000000   1064.000000\n",
       "mean     39.385338    30.651795     1.090226   8434.268298\n",
       "std      14.083410     6.043111     1.218136   5993.781819\n",
       "min      18.000000    15.960000     0.000000   1121.873900\n",
       "25%      26.750000    26.315000     0.000000   3986.438700\n",
       "50%      40.000000    30.352500     1.000000   7345.405300\n",
       "75%      52.000000    34.430000     2.000000  11362.887050\n",
       "max      64.000000    53.130000     5.000000  36910.608030"
      ]
     },
     "execution_count": 4,
     "metadata": {},
     "output_type": "execute_result"
    }
   ],
   "source": [
    "## Creating filtered dataframes and showing descriptive statistics\n",
    "df_nonsmokers = df.loc[df[\"smoker\"] == \"no\"]\n",
    "df_nonsmokers.describe()"
   ]
  },
  {
   "cell_type": "markdown",
   "id": "e030fb25",
   "metadata": {},
   "source": [
    "### Testing Assumptions \n",
    "---\n",
    "\n"
   ]
  },
  {
   "cell_type": "code",
   "execution_count": 5,
   "id": "02569e43",
   "metadata": {},
   "outputs": [
    {
     "data": {
      "text/plain": [
       "0"
      ]
     },
     "execution_count": 5,
     "metadata": {},
     "output_type": "execute_result"
    }
   ],
   "source": [
    "## Testing if there are signfigcant outliers\n",
    "smoker_outliers = np.abs(stats.zscore(df_smokers[\"charges\"])) > 3\n",
    "smoker_outliers.sum()"
   ]
  },
  {
   "cell_type": "code",
   "execution_count": 6,
   "id": "43cf5c75",
   "metadata": {},
   "outputs": [
    {
     "data": {
      "text/plain": [
       "24"
      ]
     },
     "execution_count": 6,
     "metadata": {},
     "output_type": "execute_result"
    }
   ],
   "source": [
    "## Testing if there are signfigcant outliers\n",
    "nonsmoker_outliers = np.abs(stats.zscore(df_nonsmokers[\"charges\"])) > 3\n",
    "nonsmoker_outliers.sum()"
   ]
  },
  {
   "cell_type": "code",
   "execution_count": 7,
   "id": "4d8f6a75",
   "metadata": {},
   "outputs": [],
   "source": [
    "## Removing outliers from nonsmoking group\n",
    "df_nonsmokers = df_nonsmokers.loc[~nonsmoker_outliers]"
   ]
  },
  {
   "cell_type": "code",
   "execution_count": 8,
   "id": "f479155b",
   "metadata": {},
   "outputs": [
    {
     "data": {
      "text/plain": [
       "5.564930630036463e-14"
      ]
     },
     "execution_count": 8,
     "metadata": {},
     "output_type": "execute_result"
    }
   ],
   "source": [
    "## Testing smoking group for normality\n",
    "results_smoker = stats.normaltest(df_smokers[\"charges\"])\n",
    "results_smoker.pvalue"
   ]
  },
  {
   "cell_type": "code",
   "execution_count": 9,
   "id": "ba472650",
   "metadata": {},
   "outputs": [
    {
     "data": {
      "text/plain": [
       "2.6945416315543976e-36"
      ]
     },
     "execution_count": 9,
     "metadata": {},
     "output_type": "execute_result"
    }
   ],
   "source": [
    "## Testing nonsmoking group for normality\n",
    "results_nonsmoker = stats.normaltest(df_nonsmokers[\"charges\"])\n",
    "results_nonsmoker.pvalue"
   ]
  },
  {
   "cell_type": "code",
   "execution_count": 10,
   "id": "dd9d2b85",
   "metadata": {},
   "outputs": [
    {
     "data": {
      "text/plain": [
       "(274, 1040)"
      ]
     },
     "execution_count": 10,
     "metadata": {},
     "output_type": "execute_result"
    }
   ],
   "source": [
    "len(df_smokers[\"charges\"]), len(df_nonsmokers[\"charges\"])"
   ]
  },
  {
   "cell_type": "markdown",
   "id": "4896ae05",
   "metadata": {},
   "source": [
    "The two groups are large enough to safely ignore the assumption of normality "
   ]
  },
  {
   "cell_type": "code",
   "execution_count": 11,
   "id": "ff51a61c",
   "metadata": {},
   "outputs": [
    {
     "name": "stdout",
     "output_type": "stream",
     "text": [
      "The groups do not have equal variance\n"
     ]
    }
   ],
   "source": [
    "## Testing for equal variance\n",
    "results = stats.levene(df_smokers[\"charges\"], df_nonsmokers[\"charges\"])\n",
    "if results.pvalue < 0.05:\n",
    "    print(\"The groups do not have equal variance\")\n",
    "else: \n",
    "    print(\"The groups do have equal variance \")"
   ]
  },
  {
   "cell_type": "markdown",
   "id": "b9964665",
   "metadata": {},
   "source": [
    "We met the assumption for normality, but not the assumption of equal variance. Therefore we will run Welch's t-test."
   ]
  },
  {
   "cell_type": "markdown",
   "id": "a88c3e41",
   "metadata": {},
   "source": [
    "### Hypothesis Test\n",
    "---\n"
   ]
  },
  {
   "cell_type": "code",
   "execution_count": 12,
   "id": "8e9211c9",
   "metadata": {},
   "outputs": [
    {
     "name": "stdout",
     "output_type": "stream",
     "text": [
      "Ttest_indResult(statistic=33.732305987092516, pvalue=2.575322662587431e-104)\n"
     ]
    },
    {
     "data": {
      "text/plain": [
       "True"
      ]
     },
     "execution_count": 12,
     "metadata": {},
     "output_type": "execute_result"
    }
   ],
   "source": [
    "final_result = stats.ttest_ind(df_smokers[\"charges\"], df_nonsmokers[\"charges\"], equal_var = False)\n",
    "print(final_result)\n",
    "final_result.pvalue < 0.05"
   ]
  },
  {
   "cell_type": "code",
   "execution_count": 13,
   "id": "4063e08a",
   "metadata": {},
   "outputs": [
    {
     "data": {
      "text/plain": [
       "32050.23183153284"
      ]
     },
     "execution_count": 13,
     "metadata": {},
     "output_type": "execute_result"
    }
   ],
   "source": [
    "df_smokers[\"charges\"].mean()"
   ]
  },
  {
   "cell_type": "code",
   "execution_count": 14,
   "id": "f8075adc",
   "metadata": {},
   "outputs": [
    {
     "data": {
      "text/plain": [
       "7939.8608446721155"
      ]
     },
     "execution_count": 14,
     "metadata": {},
     "output_type": "execute_result"
    }
   ],
   "source": [
    "df_nonsmokers[\"charges\"].mean()"
   ]
  },
  {
   "cell_type": "markdown",
   "id": "971fe9e6",
   "metadata": {},
   "source": [
    "### Results\n",
    "---\n",
    "\n",
    "    - We have a p-value less than 0.05 so we reject the null hypothesis. The smokers did receive on average a higher charge. "
   ]
  },
  {
   "cell_type": "code",
   "execution_count": 15,
   "id": "d68547e5",
   "metadata": {},
   "outputs": [
    {
     "data": {
      "image/png": "[encoded data removed]",
      "text/plain": [
       "<Figure size 640x480 with 1 Axes>"
      ]
     },
     "metadata": {},
     "output_type": "display_data"
    }
   ],
   "source": [
    "## Creating visulization \n",
    "sns.barplot(data = df, x = \"smoker\", y = \"charges\");"
   ]
  },
  {
   "cell_type": "markdown",
   "id": "46419a98",
   "metadata": {},
   "source": [
    "## Question Two \n",
    "---\n",
    "\n",
    "Are men more likely to smoke than women? \n",
    "\n",
    "H1 - There is a relationship between gender and smoking\n",
    "\n",
    "H0 - There is no relationship between gender and smoking\n",
    "\n",
    "We are comparing a binary target (smoking) versus two categorical groups (men and women) so therefore I will use the chi-squared test. "
   ]
  },
  {
   "cell_type": "code",
   "execution_count": 16,
   "id": "6de226e4",
   "metadata": {},
   "outputs": [
    {
     "data": {
      "text/html": [
       "<div>\n",
       "<style scoped>\n",
       "    .dataframe tbody tr th:only-of-type {\n",
       "        vertical-align: middle;\n",
       "    }\n",
       "\n",
       "    .dataframe tbody tr th {\n",
       "        vertical-align: top;\n",
       "    }\n",
       "\n",
       "    .dataframe thead th {\n",
       "        text-align: right;\n",
       "    }\n",
       "</style>\n",
       "<table border=\"1\" class=\"dataframe\">\n",
       "  <thead>\n",
       "    <tr style=\"text-align: right;\">\n",
       "      <th>smoker</th>\n",
       "      <th>no</th>\n",
       "      <th>yes</th>\n",
       "    </tr>\n",
       "    <tr>\n",
       "      <th>sex</th>\n",
       "      <th></th>\n",
       "      <th></th>\n",
       "    </tr>\n",
       "  </thead>\n",
       "  <tbody>\n",
       "    <tr>\n",
       "      <th>female</th>\n",
       "      <td>547</td>\n",
       "      <td>115</td>\n",
       "    </tr>\n",
       "    <tr>\n",
       "      <th>male</th>\n",
       "      <td>517</td>\n",
       "      <td>159</td>\n",
       "    </tr>\n",
       "  </tbody>\n",
       "</table>\n",
       "</div>"
      ],
      "text/plain": [
       "smoker   no  yes\n",
       "sex             \n",
       "female  547  115\n",
       "male    517  159"
      ]
     },
     "execution_count": 16,
     "metadata": {},
     "output_type": "execute_result"
    }
   ],
   "source": [
    "## Creating crosstab to group sex by smoking\n",
    "table = pd.crosstab(df[\"sex\"], df[\"smoker\"])\n",
    "table"
   ]
  },
  {
   "cell_type": "code",
   "execution_count": 17,
   "id": "726e1c15",
   "metadata": {},
   "outputs": [
    {
     "name": "stdout",
     "output_type": "stream",
     "text": [
      "0.006548143503580696\n"
     ]
    }
   ],
   "source": [
    "## Running Chi^2 test \n",
    "final_result_2 = stats.chi2_contingency(table)\n",
    "chi2, p, deg_free, expected_vals = final_result_2\n",
    "print(p)"
   ]
  },
  {
   "cell_type": "markdown",
   "id": "f8504823",
   "metadata": {},
   "source": [
    "### Results\n",
    "---\n",
    "\n",
    "    - We have a p-value less than 0.05 so we reject the null hypothesis. There is a significant link between gender and smoking rates. "
   ]
  },
  {
   "cell_type": "markdown",
   "id": "8d8c406a",
   "metadata": {},
   "source": [
    "## Question Three\n",
    "---\n",
    "Do different regions have different charges on average?\n",
    "\n",
    "H1 - There is a relationship between region and average charge\n",
    "\n",
    "H0 - There is no relationship between region and average charge\n",
    "\n",
    "The different regions represent categorical data, but their average is numeric and since there is more than 2 an ANOVA test is appropriate. "
   ]
  },
  {
   "cell_type": "markdown",
   "id": "67e83eac",
   "metadata": {},
   "source": [
    "### Testing Assumptions\n",
    "---"
   ]
  },
  {
   "cell_type": "code",
   "execution_count": 18,
   "id": "e6fd5c60",
   "metadata": {},
   "outputs": [
    {
     "data": {
      "text/plain": [
       "dict_keys(['southwest', 'southeast', 'northwest', 'northeast'])"
      ]
     },
     "execution_count": 18,
     "metadata": {},
     "output_type": "execute_result"
    }
   ],
   "source": [
    "## Grouping data for testing \n",
    "groups = {}\n",
    "for i in df[\"region\"].unique():\n",
    "    data = df.loc[df[\"region\"] == i, \"charges\"].copy()\n",
    "    \n",
    "    groups[i] = data\n",
    "\n",
    "groups.keys()"
   ]
  },
  {
   "cell_type": "code",
   "execution_count": 19,
   "id": "b856d6b3",
   "metadata": {},
   "outputs": [
    {
     "data": {
      "text/html": [
       "<div>\n",
       "<style scoped>\n",
       "    .dataframe tbody tr th:only-of-type {\n",
       "        vertical-align: middle;\n",
       "    }\n",
       "\n",
       "    .dataframe tbody tr th {\n",
       "        vertical-align: top;\n",
       "    }\n",
       "\n",
       "    .dataframe thead th {\n",
       "        text-align: right;\n",
       "    }\n",
       "</style>\n",
       "<table border=\"1\" class=\"dataframe\">\n",
       "  <thead>\n",
       "    <tr style=\"text-align: right;\">\n",
       "      <th></th>\n",
       "      <th>n</th>\n",
       "      <th>p</th>\n",
       "      <th>test stat</th>\n",
       "    </tr>\n",
       "  </thead>\n",
       "  <tbody>\n",
       "    <tr>\n",
       "      <th>southwest</th>\n",
       "      <td>325.0</td>\n",
       "      <td>6.125298e-23</td>\n",
       "      <td>102.294059</td>\n",
       "    </tr>\n",
       "    <tr>\n",
       "      <th>southeast</th>\n",
       "      <td>364.0</td>\n",
       "      <td>4.953297e-15</td>\n",
       "      <td>65.877446</td>\n",
       "    </tr>\n",
       "    <tr>\n",
       "      <th>northwest</th>\n",
       "      <td>325.0</td>\n",
       "      <td>5.184209e-24</td>\n",
       "      <td>107.232850</td>\n",
       "    </tr>\n",
       "    <tr>\n",
       "      <th>northeast</th>\n",
       "      <td>324.0</td>\n",
       "      <td>1.455431e-19</td>\n",
       "      <td>86.747629</td>\n",
       "    </tr>\n",
       "  </tbody>\n",
       "</table>\n",
       "</div>"
      ],
      "text/plain": [
       "               n             p   test stat\n",
       "southwest  325.0  6.125298e-23  102.294059\n",
       "southeast  364.0  4.953297e-15   65.877446\n",
       "northwest  325.0  5.184209e-24  107.232850\n",
       "northeast  324.0  1.455431e-19   86.747629"
      ]
     },
     "execution_count": 19,
     "metadata": {},
     "output_type": "execute_result"
    }
   ],
   "source": [
    "## Testing normal distribution assumption\n",
    "norm_results = {}\n",
    "for i, data in groups.items():\n",
    "    stat, p = stats.normaltest(data)\n",
    "    ## save the p val, test statistic, and the size of the group\n",
    "    norm_results[i] = {'n': len(data),\n",
    "                             'p':p,\n",
    "                             'test stat':stat,}\n",
    "## convert to a dataframe\n",
    "norm_results_df = pd.DataFrame(norm_results).T\n",
    "norm_results_df"
   ]
  },
  {
   "cell_type": "code",
   "execution_count": 20,
   "id": "a37d3e88",
   "metadata": {},
   "outputs": [
    {
     "data": {
      "text/html": [
       "<div>\n",
       "<style scoped>\n",
       "    .dataframe tbody tr th:only-of-type {\n",
       "        vertical-align: middle;\n",
       "    }\n",
       "\n",
       "    .dataframe tbody tr th {\n",
       "        vertical-align: top;\n",
       "    }\n",
       "\n",
       "    .dataframe thead th {\n",
       "        text-align: right;\n",
       "    }\n",
       "</style>\n",
       "<table border=\"1\" class=\"dataframe\">\n",
       "  <thead>\n",
       "    <tr style=\"text-align: right;\">\n",
       "      <th></th>\n",
       "      <th>n</th>\n",
       "      <th>p</th>\n",
       "      <th>test stat</th>\n",
       "      <th>sig</th>\n",
       "    </tr>\n",
       "  </thead>\n",
       "  <tbody>\n",
       "    <tr>\n",
       "      <th>southwest</th>\n",
       "      <td>325.0</td>\n",
       "      <td>6.125298e-23</td>\n",
       "      <td>102.294059</td>\n",
       "      <td>True</td>\n",
       "    </tr>\n",
       "    <tr>\n",
       "      <th>southeast</th>\n",
       "      <td>364.0</td>\n",
       "      <td>4.953297e-15</td>\n",
       "      <td>65.877446</td>\n",
       "      <td>True</td>\n",
       "    </tr>\n",
       "    <tr>\n",
       "      <th>northwest</th>\n",
       "      <td>325.0</td>\n",
       "      <td>5.184209e-24</td>\n",
       "      <td>107.232850</td>\n",
       "      <td>True</td>\n",
       "    </tr>\n",
       "    <tr>\n",
       "      <th>northeast</th>\n",
       "      <td>324.0</td>\n",
       "      <td>1.455431e-19</td>\n",
       "      <td>86.747629</td>\n",
       "      <td>True</td>\n",
       "    </tr>\n",
       "  </tbody>\n",
       "</table>\n",
       "</div>"
      ],
      "text/plain": [
       "               n             p   test stat   sig\n",
       "southwest  325.0  6.125298e-23  102.294059  True\n",
       "southeast  364.0  4.953297e-15   65.877446  True\n",
       "northwest  325.0  5.184209e-24  107.232850  True\n",
       "northeast  324.0  1.455431e-19   86.747629  True"
      ]
     },
     "execution_count": 20,
     "metadata": {},
     "output_type": "execute_result"
    }
   ],
   "source": [
    "## Checking significance\n",
    "norm_results_df[\"sig\"] = norm_results_df[\"p\"] < 0.5\n",
    "norm_results_df"
   ]
  },
  {
   "cell_type": "markdown",
   "id": "2dde4996",
   "metadata": {},
   "source": [
    "Each group is normally distributed. "
   ]
  },
  {
   "cell_type": "code",
   "execution_count": 21,
   "id": "5ccc93fb",
   "metadata": {},
   "outputs": [
    {
     "data": {
      "text/plain": [
       "LeveneResult(statistic=5.559966758410606, pvalue=0.0008610590250786703)"
      ]
     },
     "execution_count": 21,
     "metadata": {},
     "output_type": "execute_result"
    }
   ],
   "source": [
    "## Testing assumption of equal variance\n",
    "stats.levene(*groups.values())"
   ]
  },
  {
   "cell_type": "markdown",
   "id": "fa560093",
   "metadata": {},
   "source": [
    "The groups do not have an equal variance so I will instead use Kruskal Test. "
   ]
  },
  {
   "cell_type": "code",
   "execution_count": 25,
   "id": "f9530975",
   "metadata": {},
   "outputs": [
    {
     "data": {
      "text/plain": [
       "KruskalResult(statistic=4.734181215658743, pvalue=0.19232908072121002)"
      ]
     },
     "execution_count": 25,
     "metadata": {},
     "output_type": "execute_result"
    }
   ],
   "source": [
    "## Kruskal Test\n",
    "results_anova = stats.kruskal(*groups.values())\n",
    "results_anova"
   ]
  },
  {
   "cell_type": "markdown",
   "id": "aa613e56",
   "metadata": {},
   "source": [
    "### Results\n",
    "- We have a p-value less than 0.05 so we reject the null hypothesis. There is a significant link between region and charges. "
   ]
  },
  {
   "cell_type": "code",
   "execution_count": 23,
   "id": "e4add5b1",
   "metadata": {},
   "outputs": [
    {
     "data": {
      "image/png": "[encoded data removed]",
      "text/plain": [
       "<Figure size 640x480 with 1 Axes>"
      ]
     },
     "metadata": {},
     "output_type": "display_data"
    }
   ],
   "source": [
    "## Data visualization\n",
    "sns.barplot(data = df, x = \"region\", y = \"charges\");"
   ]
  }
 ],
 "metadata": {
  "kernelspec": {
   "display_name": "Python (dojo-env)",
   "language": "python",
   "name": "dojo-env"
  },
  "language_info": {
   "codemirror_mode": {
    "name": "ipython",
    "version": 3
   },
   "file_extension": ".py",
   "mimetype": "text/x-python",
   "name": "python",
   "nbconvert_exporter": "python",
   "pygments_lexer": "ipython3",
   "version": "3.9.15"
  },
  "toc": {
   "base_numbering": 1,
   "nav_menu": {},
   "number_sections": true,
   "sideBar": true,
   "skip_h1_title": false,
   "title_cell": "Table of Contents",
   "title_sidebar": "Contents",
   "toc_cell": false,
   "toc_position": {},
   "toc_section_display": true,
   "toc_window_display": false
  }
 },
 "nbformat": 4,
 "nbformat_minor": 5
}
